{
 "cells": [
  {
   "cell_type": "code",
   "execution_count": 1,
   "id": "dc3d6f86-4eac-43d6-a19d-aae15b8b2e77",
   "metadata": {},
   "outputs": [],
   "source": [
    "from typing import Literal\n",
    "import numpy as np\n",
    "import pandas as pd\n",
    "import seaborn as sns\n",
    "\n",
    "from sklearn.preprocessing import StandardScaler\n",
    "from sklearn.decomposition import PCA\n",
    "from sklearn.metrics import roc_auc_score\n",
    "\n",
    "from fddbenchmark.dataset import FDDDataset"
   ]
  },
  {
   "cell_type": "code",
   "execution_count": 2,
   "id": "a710c12f-61c6-42de-a003-1da57c0afaf8",
   "metadata": {},
   "outputs": [
    {
     "name": "stderr",
     "output_type": "stream",
     "text": [
      "Reading data/small_tep/dataset.csv: 100%|███| 153300/153300 [00:00<00:00, 227362.81it/s]\n",
      "Reading data/small_tep/labels.csv: 100%|███| 153300/153300 [00:00<00:00, 4747216.98it/s]\n",
      "Reading data/small_tep/train_mask.csv: 100%|█| 153300/153300 [00:00<00:00, 4487436.34it/\n",
      "Reading data/small_tep/test_mask.csv: 100%|█| 153300/153300 [00:00<00:00, 4597688.98it/s\n"
     ]
    }
   ],
   "source": [
    "dataset = FDDDataset(name='small_tep')"
   ]
  },
  {
   "cell_type": "code",
   "execution_count": 3,
   "id": "d85b00c8-5c40-4172-a97b-4b4688998f72",
   "metadata": {},
   "outputs": [],
   "source": [
    "def concat_sliding_window_features(df: pd.DataFrame, window_size: int, dilation: int, fill_nans: bool = True) -> pd.DataFrame:\n",
    "    df = df.reset_index()\n",
    "    new_df = df.copy()\n",
    "    for shift in range(1, window_size, dilation):\n",
    "        if shift == 1:\n",
    "            suffix = '_1_step_before'\n",
    "        else:\n",
    "            suffix = f'_{shift}_steps_before'\n",
    "\n",
    "        shifted = df.shift(shift)\n",
    "        shifted[shifted.run_id != df.run_id] = np.nan\n",
    "        shifted.drop(['run_id', 'sample'], axis=1, inplace=True)\n",
    "        new_df = pd.concat([new_df, shifted.add_suffix(suffix)], axis=1)\n",
    "\n",
    "    new_df.set_index(['run_id', 'sample'], inplace=True)\n",
    "\n",
    "    if fill_nans:\n",
    "        new_df.fillna(method='bfill', inplace=True)\n",
    "\n",
    "    return new_df"
   ]
  },
  {
   "cell_type": "code",
   "execution_count": 40,
   "id": "c2944e4b-c90d-4332-8316-aca247246c80",
   "metadata": {},
   "outputs": [],
   "source": [
    "df = concat_sliding_window_features(dataset.df, 100, 5)"
   ]
  },
  {
   "cell_type": "code",
   "execution_count": 41,
   "id": "4c14aa2a-5a93-4172-85de-000dc5e88775",
   "metadata": {},
   "outputs": [
    {
     "data": {
      "text/plain": [
       "(153300, 1092)"
      ]
     },
     "execution_count": 41,
     "metadata": {},
     "output_type": "execute_result"
    }
   ],
   "source": [
    "df.shape"
   ]
  },
  {
   "cell_type": "code",
   "execution_count": 42,
   "id": "ad37806f-f3e0-429a-8712-e161cc56725f",
   "metadata": {},
   "outputs": [],
   "source": [
    "X_train = df[dataset.train_mask].values\n",
    "y_train = dataset.labels[dataset.train_mask].values"
   ]
  },
  {
   "cell_type": "code",
   "execution_count": 43,
   "id": "c3762910-3fef-4a63-acd7-71e96d418590",
   "metadata": {},
   "outputs": [
    {
     "data": {
      "text/plain": [
       "52500"
      ]
     },
     "execution_count": 43,
     "metadata": {},
     "output_type": "execute_result"
    }
   ],
   "source": [
    "len(X_train)"
   ]
  },
  {
   "cell_type": "code",
   "execution_count": 44,
   "id": "158335d6-9e3f-4d87-b6dc-278ce4b7ceb1",
   "metadata": {},
   "outputs": [],
   "source": [
    "X_train = X_train[y_train == 0]"
   ]
  },
  {
   "cell_type": "code",
   "execution_count": 45,
   "id": "29f49818-11db-4958-854b-551381bd3446",
   "metadata": {},
   "outputs": [
    {
     "data": {
      "text/plain": [
       "4500"
      ]
     },
     "execution_count": 45,
     "metadata": {},
     "output_type": "execute_result"
    }
   ],
   "source": [
    "len(X_train)"
   ]
  },
  {
   "cell_type": "code",
   "execution_count": 46,
   "id": "f2640762-5f3a-4878-8e63-5f495276f36e",
   "metadata": {},
   "outputs": [],
   "source": [
    "scaler = StandardScaler()\n",
    "X_train = scaler.fit_transform(X_train)"
   ]
  },
  {
   "cell_type": "code",
   "execution_count": 47,
   "id": "25b66e5a-d855-4b7b-9110-88df0ed96841",
   "metadata": {},
   "outputs": [
    {
     "data": {
      "text/html": [
       "<style>#sk-container-id-4 {color: black;}#sk-container-id-4 pre{padding: 0;}#sk-container-id-4 div.sk-toggleable {background-color: white;}#sk-container-id-4 label.sk-toggleable__label {cursor: pointer;display: block;width: 100%;margin-bottom: 0;padding: 0.3em;box-sizing: border-box;text-align: center;}#sk-container-id-4 label.sk-toggleable__label-arrow:before {content: \"▸\";float: left;margin-right: 0.25em;color: #696969;}#sk-container-id-4 label.sk-toggleable__label-arrow:hover:before {color: black;}#sk-container-id-4 div.sk-estimator:hover label.sk-toggleable__label-arrow:before {color: black;}#sk-container-id-4 div.sk-toggleable__content {max-height: 0;max-width: 0;overflow: hidden;text-align: left;background-color: #f0f8ff;}#sk-container-id-4 div.sk-toggleable__content pre {margin: 0.2em;color: black;border-radius: 0.25em;background-color: #f0f8ff;}#sk-container-id-4 input.sk-toggleable__control:checked~div.sk-toggleable__content {max-height: 200px;max-width: 100%;overflow: auto;}#sk-container-id-4 input.sk-toggleable__control:checked~label.sk-toggleable__label-arrow:before {content: \"▾\";}#sk-container-id-4 div.sk-estimator input.sk-toggleable__control:checked~label.sk-toggleable__label {background-color: #d4ebff;}#sk-container-id-4 div.sk-label input.sk-toggleable__control:checked~label.sk-toggleable__label {background-color: #d4ebff;}#sk-container-id-4 input.sk-hidden--visually {border: 0;clip: rect(1px 1px 1px 1px);clip: rect(1px, 1px, 1px, 1px);height: 1px;margin: -1px;overflow: hidden;padding: 0;position: absolute;width: 1px;}#sk-container-id-4 div.sk-estimator {font-family: monospace;background-color: #f0f8ff;border: 1px dotted black;border-radius: 0.25em;box-sizing: border-box;margin-bottom: 0.5em;}#sk-container-id-4 div.sk-estimator:hover {background-color: #d4ebff;}#sk-container-id-4 div.sk-parallel-item::after {content: \"\";width: 100%;border-bottom: 1px solid gray;flex-grow: 1;}#sk-container-id-4 div.sk-label:hover label.sk-toggleable__label {background-color: #d4ebff;}#sk-container-id-4 div.sk-serial::before {content: \"\";position: absolute;border-left: 1px solid gray;box-sizing: border-box;top: 0;bottom: 0;left: 50%;z-index: 0;}#sk-container-id-4 div.sk-serial {display: flex;flex-direction: column;align-items: center;background-color: white;padding-right: 0.2em;padding-left: 0.2em;position: relative;}#sk-container-id-4 div.sk-item {position: relative;z-index: 1;}#sk-container-id-4 div.sk-parallel {display: flex;align-items: stretch;justify-content: center;background-color: white;position: relative;}#sk-container-id-4 div.sk-item::before, #sk-container-id-4 div.sk-parallel-item::before {content: \"\";position: absolute;border-left: 1px solid gray;box-sizing: border-box;top: 0;bottom: 0;left: 50%;z-index: -1;}#sk-container-id-4 div.sk-parallel-item {display: flex;flex-direction: column;z-index: 1;position: relative;background-color: white;}#sk-container-id-4 div.sk-parallel-item:first-child::after {align-self: flex-end;width: 50%;}#sk-container-id-4 div.sk-parallel-item:last-child::after {align-self: flex-start;width: 50%;}#sk-container-id-4 div.sk-parallel-item:only-child::after {width: 0;}#sk-container-id-4 div.sk-dashed-wrapped {border: 1px dashed gray;margin: 0 0.4em 0.5em 0.4em;box-sizing: border-box;padding-bottom: 0.4em;background-color: white;}#sk-container-id-4 div.sk-label label {font-family: monospace;font-weight: bold;display: inline-block;line-height: 1.2em;}#sk-container-id-4 div.sk-label-container {text-align: center;}#sk-container-id-4 div.sk-container {/* jupyter's `normalize.less` sets `[hidden] { display: none; }` but bootstrap.min.css set `[hidden] { display: none !important; }` so we also need the `!important` here to be able to override the default hidden behavior on the sphinx rendered scikit-learn.org. See: https://github.com/scikit-learn/scikit-learn/issues/21755 */display: inline-block !important;position: relative;}#sk-container-id-4 div.sk-text-repr-fallback {display: none;}</style><div id=\"sk-container-id-4\" class=\"sk-top-container\"><div class=\"sk-text-repr-fallback\"><pre>PCA(n_components=500)</pre><b>In a Jupyter environment, please rerun this cell to show the HTML representation or trust the notebook. <br />On GitHub, the HTML representation is unable to render, please try loading this page with nbviewer.org.</b></div><div class=\"sk-container\" hidden><div class=\"sk-item\"><div class=\"sk-estimator sk-toggleable\"><input class=\"sk-toggleable__control sk-hidden--visually\" id=\"sk-estimator-id-4\" type=\"checkbox\" checked><label for=\"sk-estimator-id-4\" class=\"sk-toggleable__label sk-toggleable__label-arrow\">PCA</label><div class=\"sk-toggleable__content\"><pre>PCA(n_components=500)</pre></div></div></div></div></div>"
      ],
      "text/plain": [
       "PCA(n_components=500)"
      ]
     },
     "execution_count": 47,
     "metadata": {},
     "output_type": "execute_result"
    }
   ],
   "source": [
    "pca = PCA(n_components=500)\n",
    "pca.fit(X_train)"
   ]
  },
  {
   "cell_type": "code",
   "execution_count": 48,
   "id": "3e7386d5-5811-4799-bfa0-3c99a05e9bd2",
   "metadata": {},
   "outputs": [
    {
     "data": {
      "text/plain": [
       "<Axes: >"
      ]
     },
     "execution_count": 48,
     "metadata": {},
     "output_type": "execute_result"
    },
    {
     "data": {
      "image/png": "[encoded data removed]",
      "text/plain": [
       "<Figure size 640x480 with 1 Axes>"
      ]
     },
     "metadata": {},
     "output_type": "display_data"
    }
   ],
   "source": [
    "sns.lineplot(np.cumsum(pca.explained_variance_ratio_))"
   ]
  },
  {
   "cell_type": "code",
   "execution_count": 49,
   "id": "bf87a457-1d29-401d-bf18-4395733719e9",
   "metadata": {},
   "outputs": [],
   "source": [
    "# pca = PCA(n_components=70)\n",
    "X_train_pca = pca.transform(X_train)"
   ]
  },
  {
   "cell_type": "code",
   "execution_count": 50,
   "id": "0cccb52e-a95e-4401-9655-3c15698ae44d",
   "metadata": {},
   "outputs": [],
   "source": [
    "X_test = df[dataset.test_mask].values\n",
    "y_test = dataset.labels[dataset.test_mask].values"
   ]
  },
  {
   "cell_type": "code",
   "execution_count": 51,
   "id": "9385aafe-374a-4205-8ff4-5a759e923eef",
   "metadata": {},
   "outputs": [],
   "source": [
    "X_test = scaler.transform(X_test)"
   ]
  },
  {
   "cell_type": "code",
   "execution_count": 52,
   "id": "85afee64-4a6f-4b1c-bf93-ae18d8275cfa",
   "metadata": {},
   "outputs": [],
   "source": [
    "X_test_pca = pca.transform(X_test)"
   ]
  },
  {
   "cell_type": "code",
   "execution_count": 53,
   "id": "bdd5d5a3-3b34-45b6-8fe2-87a5c71b0ec5",
   "metadata": {},
   "outputs": [],
   "source": [
    "y_pred_t2 = np.sum(X_test_pca ** 2 / pca.explained_variance_, axis=1)"
   ]
  },
  {
   "cell_type": "code",
   "execution_count": 54,
   "id": "e2eab419-d726-4d0f-aff3-5708d8892343",
   "metadata": {},
   "outputs": [],
   "source": [
    "y_pred_spe = np.linalg.norm(pca.inverse_transform(X_test_pca) - X_test, axis=1)"
   ]
  },
  {
   "cell_type": "code",
   "execution_count": 55,
   "id": "21dc0398-e69f-441e-abf1-280d31447f15",
   "metadata": {},
   "outputs": [
    {
     "data": {
      "text/plain": [
       "0.9545046778846155"
      ]
     },
     "execution_count": 55,
     "metadata": {},
     "output_type": "execute_result"
    }
   ],
   "source": [
    "roc_auc_score(y_test != 0, y_pred_spe)"
   ]
  },
  {
   "cell_type": "code",
   "execution_count": 56,
   "id": "0576b29c-ac79-4fb1-b6a2-9e10b19535a3",
   "metadata": {},
   "outputs": [
    {
     "data": {
      "text/plain": [
       "0.9239739507211538"
      ]
     },
     "execution_count": 56,
     "metadata": {},
     "output_type": "execute_result"
    }
   ],
   "source": [
    "roc_auc_score(y_test != 0, y_pred_t2)"
   ]
  },
  {
   "cell_type": "code",
   "execution_count": null,
   "id": "234d8ced-7bb0-44ee-becf-189f33c0c477",
   "metadata": {},
   "outputs": [],
   "source": []
  }
 ],
 "metadata": {
  "kernelspec": {
   "display_name": "Python 3 (ipykernel)",
   "language": "python",
   "name": "python3"
  },
  "language_info": {
   "codemirror_mode": {
    "name": "ipython",
    "version": 3
   },
   "file_extension": ".py",
   "mimetype": "text/x-python",
   "name": "python",
   "nbconvert_exporter": "python",
   "pygments_lexer": "ipython3",
   "version": "3.11.4"
  }
 },
 "nbformat": 4,
 "nbformat_minor": 5
}
