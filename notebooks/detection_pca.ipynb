{
 "cells": [
  {
   "cell_type": "code",
   "execution_count": 1,
   "id": "dc3d6f86-4eac-43d6-a19d-aae15b8b2e77",
   "metadata": {},
   "outputs": [],
   "source": [
    "from typing import Literal\n",
    "from tqdm.notebook import tqdm\n",
    "import numpy as np\n",
    "import pandas as pd\n",
    "import seaborn as sns\n",
    "import itertools\n",
    "\n",
    "import torch\n",
    "from torch import nn\n",
    "import torch.nn.functional as F\n",
    "\n",
    "from sklearn.preprocessing import StandardScaler\n",
    "from sklearn.decomposition import PCA\n",
    "from sklearn.metrics import roc_auc_score\n",
    "\n",
    "from fddbenchmark.dataset import FDDDataset\n",
    "from fddbenchmark.dataloader import FDDDataloader\n",
    "from fddbenchmark.models.detection.pca import FaultDetectionPCA\n",
    "from fddbenchmark.models.detection.lstm_vae import FaultDetectionLSTMVAE"
   ]
  },
  {
   "cell_type": "code",
   "execution_count": 2,
   "id": "a710c12f-61c6-42de-a003-1da57c0afaf8",
   "metadata": {},
   "outputs": [
    {
     "name": "stderr",
     "output_type": "stream",
     "text": [
      "Reading data/small_tep/dataset.csv: 100%|███| 153300/153300 [00:01<00:00, 146592.70it/s]\n",
      "Reading data/small_tep/labels.csv: 100%|███| 153300/153300 [00:00<00:00, 3694944.22it/s]\n",
      "Reading data/small_tep/train_mask.csv: 100%|█| 153300/153300 [00:00<00:00, 3896606.33it/\n",
      "Reading data/small_tep/test_mask.csv: 100%|█| 153300/153300 [00:00<00:00, 4318564.86it/s\n"
     ]
    }
   ],
   "source": [
    "dataset = FDDDataset(name='small_tep')"
   ]
  },
  {
   "cell_type": "markdown",
   "id": "4ba7c125-8ccb-458e-9b51-5a81ff84c44b",
   "metadata": {},
   "source": [
    "# PCA"
   ]
  },
  {
   "cell_type": "code",
   "execution_count": 3,
   "id": "e54ea95a-f8eb-41bb-a967-20ab40ac0096",
   "metadata": {},
   "outputs": [
    {
     "name": "stderr",
     "output_type": "stream",
     "text": [
      "Creating sequence of samples: 100%|█████████████████| 105/105 [00:00<00:00, 4999.79it/s]\n",
      "Creating sequence of samples: 100%|█████████████████| 105/105 [00:00<00:00, 4094.78it/s]\n"
     ]
    }
   ],
   "source": [
    "train_dataloader = FDDDataloader(\n",
    "    dataframe=dataset.df,\n",
    "    mask=dataset.train_mask & (dataset.labels == 0),\n",
    "    labels=dataset.labels,\n",
    "    window_size=100,\n",
    "    dilation=1,\n",
    "    step_size=1,\n",
    ")\n",
    "test_dataloader = FDDDataloader(\n",
    "    dataframe=dataset.df,\n",
    "    mask=dataset.test_mask,\n",
    "    labels=dataset.labels,\n",
    "    window_size=100,\n",
    "    dilation=1,\n",
    "    step_size=1,\n",
    ")"
   ]
  },
  {
   "cell_type": "code",
   "execution_count": 4,
   "id": "3559abb1-3642-4323-a293-a1c983b1003e",
   "metadata": {},
   "outputs": [
    {
     "data": {
      "application/vnd.jupyter.widget-view+json": {
       "model_id": "b9f4f6b00579450e9055be09e1192152",
       "version_major": 2,
       "version_minor": 0
      },
      "text/plain": [
       "  0%|          | 0/3 [00:00<?, ?it/s]"
      ]
     },
     "metadata": {},
     "output_type": "display_data"
    }
   ],
   "source": [
    "pca = FaultDetectionPCA(normal_variance_ratio)\n",
    "pca.fit(train_dataloader)\n",
    "(X, y, _), = iter(test_dataloader)\n",
    "roc_aucs.append(roc_auc_score(y > 0, pca.predict(X)))"
   ]
  },
  {
   "cell_type": "markdown",
   "id": "f8d31c5e-dd8d-408d-9d9f-710593241003",
   "metadata": {},
   "source": [
    "# LSTM-based VAE"
   ]
  },
  {
   "cell_type": "code",
   "execution_count": null,
   "id": "d1841180-fbe3-470d-945b-22c1dc2470e3",
   "metadata": {},
   "outputs": [],
   "source": [
    "train_dataloader = FDDDataloader(\n",
    "    dataframe=dataset.df,\n",
    "    mask=dataset.train_mask & (dataset.labels == 0),\n",
    "    labels=dataset.labels,\n",
    "    window_size=100,\n",
    "    dilation=1,\n",
    "    step_size=1,\n",
    "    batch_size=32\n",
    ")\n",
    "test_dataloader = FDDDataloader(\n",
    "    dataframe=dataset.df,\n",
    "    mask=dataset.test_mask,\n",
    "    labels=dataset.labels,\n",
    "    window_size=100,\n",
    "    dilation=1,\n",
    "    step_size=1,\n",
    "    batch_size=32\n",
    ")"
   ]
  }
 ],
 "metadata": {
  "kernelspec": {
   "display_name": "Python 3 (ipykernel)",
   "language": "python",
   "name": "python3"
  },
  "language_info": {
   "codemirror_mode": {
    "name": "ipython",
    "version": 3
   },
   "file_extension": ".py",
   "mimetype": "text/x-python",
   "name": "python",
   "nbconvert_exporter": "python",
   "pygments_lexer": "ipython3",
   "version": "3.11.4"
  }
 },
 "nbformat": 4,
 "nbformat_minor": 5
}
