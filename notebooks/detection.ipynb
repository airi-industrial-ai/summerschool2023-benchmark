{
 "cells": [
  {
   "cell_type": "code",
   "execution_count": 1,
   "id": "dc3d6f86-4eac-43d6-a19d-aae15b8b2e77",
   "metadata": {},
   "outputs": [],
   "source": [
    "from typing import Literal\n",
    "from tqdm.notebook import tqdm\n",
    "import numpy as np\n",
    "import pandas as pd\n",
    "import seaborn as sns\n",
    "import itertools\n",
    "import matplotlib.pyplot as plt\n",
    "\n",
    "import torch\n",
    "from torch import nn\n",
    "import torch.nn.functional as F\n",
    "\n",
    "from sklearn.preprocessing import StandardScaler\n",
    "from sklearn.decomposition import PCA\n",
    "from sklearn.ensemble import IsolationForest\n",
    "from sklearn.linear_model import SGDOneClassSVM\n",
    "from sklearn.metrics import roc_auc_score\n",
    "\n",
    "from fddbenchmark.dataset import FDDDataset\n",
    "from fddbenchmark.dataloader import FDDDataloader\n",
    "from fddbenchmark.models.detection.isolation_forest import FaultDetectionIsolationForest\n",
    "from fddbenchmark.models.detection.pca import FaultDetectionPCA\n",
    "from fddbenchmark.models.detection.mlp_vae import FaultDetectionMLPVAE\n",
    "from fddbenchmark.models.detection.lstm_vae import FaultDetectionLSTMVAE\n"
   ]
  },
  {
   "cell_type": "markdown",
   "id": "8c744515-49a7-4f93-a059-c1ee2b9c6d35",
   "metadata": {},
   "source": [
    "# Small TEP"
   ]
  },
  {
   "cell_type": "code",
   "execution_count": null,
   "id": "a710c12f-61c6-42de-a003-1da57c0afaf8",
   "metadata": {},
   "outputs": [
    {
     "name": "stderr",
     "output_type": "stream",
     "text": [
      "Reading data/lessmeier_bearing/dataset.csv: 100%|█| 87361169/87361169 [00:52<00:00, 16537\n"
     ]
    }
   ],
   "source": [
    "dataset = FDDDataset(name='lessmeier_bearing')"
   ]
  },
  {
   "cell_type": "code",
   "execution_count": 3,
   "id": "16842e00-7995-4969-8241-1db8db549e50",
   "metadata": {},
   "outputs": [
    {
     "name": "stderr",
     "output_type": "stream",
     "text": [
      "Creating sequence of samples: 100%|██████████████████████| 96/96 [00:07<00:00, 12.34it/s]\n",
      "Creating sequence of samples: 100%|██████████████████████| 68/68 [00:04<00:00, 13.68it/s]\n"
     ]
    }
   ],
   "source": [
    "train_dataloader = FDDDataloader(\n",
    "    dataframe=dataset.df,\n",
    "    mask=dataset.train_mask & (dataset.labels == 0),\n",
    "    labels=dataset.labels,\n",
    "    window_size=20,\n",
    "    dilation=1,\n",
    "    step_size=1,\n",
    ")\n",
    "test_dataloader = FDDDataloader(\n",
    "    dataframe=dataset.df,\n",
    "    mask=dataset.test_mask,\n",
    "    labels=dataset.labels,\n",
    "    window_size=20,\n",
    "    dilation=1,\n",
    "    step_size=1,\n",
    ")"
   ]
  },
  {
   "cell_type": "markdown",
   "id": "2888bf4b-f31d-4af8-a9d6-dc6645359509",
   "metadata": {},
   "source": [
    "## Isolation Forest"
   ]
  },
  {
   "cell_type": "code",
   "execution_count": 4,
   "id": "936ca4ef-dd0a-4c15-93e6-e54b75b3d17a",
   "metadata": {},
   "outputs": [
    {
     "data": {
      "text/plain": [
       "0.6288998010169777"
      ]
     },
     "execution_count": 4,
     "metadata": {},
     "output_type": "execute_result"
    }
   ],
   "source": [
    "forest = FaultDetectionIsolationForest()\n",
    "forest.fit(train_dataloader)\n",
    "(x, y, _), = iter(test_dataloader)\n",
    "roc_auc_score(y > 0, forest.predict(x))"
   ]
  },
  {
   "cell_type": "markdown",
   "id": "84af74c9-11de-4c11-8dc9-eaf85206d603",
   "metadata": {},
   "source": [
    "## PCA"
   ]
  },
  {
   "cell_type": "code",
   "execution_count": 5,
   "id": "e3278121-4509-4095-9fd1-b02d9c84d26d",
   "metadata": {},
   "outputs": [
    {
     "name": "stdout",
     "output_type": "stream",
     "text": [
      "0.2981512347152495\n",
      "0.5910378344190956\n",
      "\n",
      "0.32731469854431106\n",
      "0.5862504116389659\n",
      "\n",
      "0.602961800397453\n",
      "0.5817696378862426\n",
      "\n",
      "0.602961800397453\n",
      "0.5817696378862426\n",
      "\n",
      "0.602961800397453\n",
      "0.5817696378862426\n",
      "\n",
      "0.602961800397453\n",
      "0.5817696378862426\n",
      "\n",
      "0.602961800397453\n",
      "0.5817696378862426\n",
      "\n"
     ]
    }
   ],
   "source": [
    "for normal_variance_ratio in [0.9, 0.95, 0.99, 0.995, 0.999, 0.9995, 0.9999]:\n",
    "    pca = FaultDetectionPCA(normal_variance_ratio)\n",
    "    pca.fit(train_dataloader)\n",
    "    (x, y, _), = iter(test_dataloader)\n",
    "    print(roc_auc_score(y > 0, pca.predict(x, scoring='spe')))\n",
    "    print(roc_auc_score(y > 0, pca.predict(x, scoring='t2')))\n",
    "    print()"
   ]
  },
  {
   "cell_type": "markdown",
   "id": "0c3b6732-a0c1-47d6-8f02-f4e52011dfbf",
   "metadata": {},
   "source": [
    "## AE"
   ]
  },
  {
   "cell_type": "code",
   "execution_count": null,
   "id": "d1841180-fbe3-470d-945b-22c1dc2470e3",
   "metadata": {},
   "outputs": [],
   "source": [
    "train_dataloader = FDDDataloader(\n",
    "    dataframe=dataset.df,\n",
    "    mask=dataset.train_mask & (dataset.labels == 0),\n",
    "    labels=dataset.labels,\n",
    "    window_size=1024,\n",
    "    dilation=1,\n",
    "    step_size=1,\n",
    "    use_minibatches=True,\n",
    "    batch_size=32,\n",
    "    shuffle=True,\n",
    ")\n",
    "\n",
    "test_dataloader = FDDDataloader(\n",
    "    dataframe=dataset.df,\n",
    "    mask=dataset.test_mask,\n",
    "    labels=dataset.labels,\n",
    "    window_size=1024,\n",
    "    dilation=1,\n",
    "    step_size=1,\n",
    "    use_minibatches=True,\n",
    "    batch_size=32,\n",
    ")"
   ]
  },
  {
   "cell_type": "code",
   "execution_count": null,
   "id": "41bc2a9a-2ec9-4c5a-824a-3c092e0f7064",
   "metadata": {},
   "outputs": [],
   "source": [
    "for latent_dim in [32, 64, 128]:\n",
    "    ae = FaultDetectionMLPVAE(\n",
    "        input_dim=1,\n",
    "        window_size=1024,\n",
    "        hidden_dim=1024,\n",
    "        latent_dim=latent_dim,\n",
    "        beta=0.0,\n",
    "        device='cuda:1'\n",
    "    )\n",
    "\n",
    "    ae.fit(\n",
    "        train_dataloader,\n",
    "        num_epochs=250,\n",
    "        log_dir='/homes/mgoncharov/summerschool2023-benchmark/logs/',\n",
    "        verbose=0\n",
    "    )\n",
    "\n",
    "    y_true = []\n",
    "    y_score = []\n",
    "    cnt = 0\n",
    "    for (x, y, _) in tqdm(test_dataloader):\n",
    "        y_true.append(y)\n",
    "        y_score.append(ae.predict(x))\n",
    "\n",
    "    print(roc_auc_score(np.concatenate(y_true) > 0, np.concatenate(y_score)))"
   ]
  },
  {
   "cell_type": "code",
   "execution_count": null,
   "id": "5cfb25f4-9ec0-4413-8e9d-8983c71a3ad5",
   "metadata": {},
   "outputs": [],
   "source": [
    "for beta in [0.1, 1.0]:\n",
    "    vae = FaultDetectionMLPVAE(\n",
    "        input_dim=1,\n",
    "        window_size=21024,\n",
    "        hidden_dim=1024,\n",
    "        latent_dim=64,\n",
    "        beta=beta,\n",
    "        device='cuda:1'\n",
    "    )\n",
    "\n",
    "    vae.fit(\n",
    "        train_dataloader,\n",
    "        num_epochs=500,\n",
    "        log_dir='/homes/mgoncharov/summerschool2023-benchmark/logs/',\n",
    "        verbose=0\n",
    "    )\n",
    "\n",
    "    y_true = []\n",
    "    y_score_1 = []\n",
    "    y_score_2 = []\n",
    "    y_score_3 = []\n",
    "    y_score_4 = []\n",
    "    cnt = 0\n",
    "    for (x, y, _) in tqdm(test_dataloader):\n",
    "        y_true.append(y)\n",
    "        y_score_1.append(vae.predict(x, scoring='reconstruction_error'))\n",
    "        y_score_2.append(vae.predict(x, scoring='importance_sampling', std_x=1.0))\n",
    "        y_score_4.append(vae.predict(x, scoring='importance_sampling', std_x=0.1))\n",
    "\n",
    "    print(roc_auc_score(np.concatenate(y_true) > 0, np.concatenate(y_score_1)))\n",
    "    print(roc_auc_score(np.concatenate(y_true) > 0, np.concatenate(y_score_2)))\n",
    "    print(roc_auc_score(np.concatenate(y_true) > 0, np.concatenate(y_score_3)))\n",
    "    print(roc_auc_score(np.concatenate(y_true) > 0, np.concatenate(y_score_4)))\n",
    "    print()"
   ]
  },
  {
   "cell_type": "code",
   "execution_count": null,
   "id": "9ba489fe-7015-460a-9186-ea5432ce35c4",
   "metadata": {},
   "outputs": [],
   "source": []
  }
 ],
 "metadata": {
  "kernelspec": {
   "display_name": "Python 3 (ipykernel)",
   "language": "python",
   "name": "python3"
  },
  "language_info": {
   "codemirror_mode": {
    "name": "ipython",
    "version": 3
   },
   "file_extension": ".py",
   "mimetype": "text/x-python",
   "name": "python",
   "nbconvert_exporter": "python",
   "pygments_lexer": "ipython3",
   "version": "3.10.10"
  }
 },
 "nbformat": 4,
 "nbformat_minor": 5
}
